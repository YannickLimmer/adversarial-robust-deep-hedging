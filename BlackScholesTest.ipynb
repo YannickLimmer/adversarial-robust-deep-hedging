{
 "cells": [
  {
   "cell_type": "markdown",
   "id": "c547934a-0644-4864-9a08-b0f269764f37",
   "metadata": {},
   "source": [
    "# Adversarial Robust Deep Hedging\n",
    "#### Exploring the Black-Scholes Model\n",
    "(Example 7.3)"
   ]
  },
  {
   "cell_type": "code",
   "execution_count": 1,
   "id": "03c30c9d-2c72-4613-b78e-1c581ba4e54c",
   "metadata": {},
   "outputs": [],
   "source": [
    "from typing import Dict\n",
    "from IPython import display\n",
    "import numpy as np\n",
    "import torch\n",
    "from matplotlib import pyplot as plt\n",
    "from tqdm.auto import tqdm\n",
    "\n",
    "import seaborn as sns\n",
    "sns.set_theme()\n",
    "\n",
    "from src.deep_hedging.DeepHedge import DeepHedgeConfig, DeepHedge\n",
    "from src.deep_hedging.DeepHedgeTrainer import DeepHedgeTrainer, DeepHedgeTrainerConfig\n",
    "from src.deep_hedging.StrategyNet import StrategyNetConfig\n",
    "from src.deep_hedging.objectives.HedgeObjective import MeanVariance, Entropy, StableEntropy\n",
    "from src.derivative.EuropeanCallOption import EuropeanCallOption\n",
    "from src.gan.RobustDhGan import RobustDhGan\n",
    "from src.generator.BlackScholesCoefficient import BlackScholesCoefficientConfig, BlackScholesDriftCoefficient, BlackScholesDiffusionCoefficient\n",
    "from src.generator.SdeGenerator import GeneratorConfig, SdeGenerator\n",
    "from src.util.processes.BlackScholesGenerator import BlackScholesGenerator\n",
    "from src.generator.SdeGeneratorTrainer import SdeGeneratorTrainerConfig\n",
    "from src.penalty.Augmentations import LeadLag, AddTimeComponent\n",
    "from src.penalty.SigWassersteinMetric import SignatureConfig, SigWassersteinMetric\n",
    "from src.penalty.CompareVolatility import CompareVolatility, VolatilityComparisonConfig\n",
    "from src.util.TimeUtil import UniformTimeDiscretization\n",
    "from src.util.processes.BlackScholesGenerator import BlackScholesParameterSet, BlackScholesGenerator\n",
    "from src.util.processes.BrownianMotionGenerator import BrownianMotionGenerator\n",
    "from src.util.processes.HestonGenerator import HestonParameterSet, HestonGenerator\n",
    "from src.util.torch_util.AdapterUtil import Adapter, AdapterList, SelectDimensions, ConvertToIncrements\n",
    "from src.util.torch_util.TrainingUtil import TrainerConfig\n",
    "from src.util.torch_util.CallbackUtil import PrintMetrics, PrintGeneratorParameters, PrintEmptyLine\n",
    "from src.util.VisualizationUtil import QuantityLogger\n",
    "from src.util.torch_util.TrainingUtil import TrainerConfig, PbarOption, gen_factory\n",
    "from src.util.ray_util.TqdmUtil import to_limited_iterator\n",
    "from src.util.PushOverUtil import notify"
   ]
  },
  {
   "cell_type": "code",
   "execution_count": 2,
   "id": "7dc6c8ba-995f-4956-84d5-cceb422ea4ab",
   "metadata": {},
   "outputs": [
    {
     "data": {
      "text/html": [
       "<div>\n",
       "    <div style=\"margin-left: 50px;display: flex;flex-direction: row;align-items: center\">\n",
       "        <h3 style=\"color: var(--jp-ui-font-color0)\">Ray</h3>\n",
       "        <svg version=\"1.1\" id=\"ray\" width=\"3em\" viewBox=\"0 0 144.5 144.6\" style=\"margin-left: 3em;margin-right: 3em\">\n",
       "            <g id=\"layer-1\">\n",
       "                <path fill=\"#00a2e9\" class=\"st0\" d=\"M97.3,77.2c-3.8-1.1-6.2,0.9-8.3,5.1c-3.5,6.8-9.9,9.9-17.4,9.6S58,88.1,54.8,81.2c-1.4-3-3-4-6.3-4.1\n",
       "                    c-5.6-0.1-9.9,0.1-13.1,6.4c-3.8,7.6-13.6,10.2-21.8,7.6C5.2,88.4-0.4,80.5,0,71.7c0.1-8.4,5.7-15.8,13.8-18.2\n",
       "                    c8.4-2.6,17.5,0.7,22.3,8c1.3,1.9,1.3,5.2,3.6,5.6c3.9,0.6,8,0.2,12,0.2c1.8,0,1.9-1.6,2.4-2.8c3.5-7.8,9.7-11.8,18-11.9\n",
       "                    c8.2-0.1,14.4,3.9,17.8,11.4c1.3,2.8,2.9,3.6,5.7,3.3c1-0.1,2,0.1,3,0c2.8-0.5,6.4,1.7,8.1-2.7s-2.3-5.5-4.1-7.5\n",
       "                    c-5.1-5.7-10.9-10.8-16.1-16.3C84,38,81.9,37.1,78,38.3C66.7,42,56.2,35.7,53,24.1C50.3,14,57.3,2.8,67.7,0.5\n",
       "                    C78.4-2,89,4.7,91.5,15.3c0.1,0.3,0.1,0.5,0.2,0.8c0.7,3.4,0.7,6.9-0.8,9.8c-1.7,3.2-0.8,5,1.5,7.2c6.7,6.5,13.3,13,19.8,19.7\n",
       "                    c1.8,1.8,3,2.1,5.5,1.2c9.1-3.4,17.9-0.6,23.4,7c4.8,6.9,4.6,16.1-0.4,22.9c-5.4,7.2-14.2,9.9-23.1,6.5c-2.3-0.9-3.5-0.6-5.1,1.1\n",
       "                    c-6.7,6.9-13.6,13.7-20.5,20.4c-1.8,1.8-2.5,3.2-1.4,5.9c3.5,8.7,0.3,18.6-7.7,23.6c-7.9,5-18.2,3.8-24.8-2.9\n",
       "                    c-6.4-6.4-7.4-16.2-2.5-24.3c4.9-7.8,14.5-11,23.1-7.8c3,1.1,4.7,0.5,6.9-1.7C91.7,98.4,98,92.3,104.2,86c1.6-1.6,4.1-2.7,2.6-6.2\n",
       "                    c-1.4-3.3-3.8-2.5-6.2-2.6C99.8,77.2,98.9,77.2,97.3,77.2z M72.1,29.7c5.5,0.1,9.9-4.3,10-9.8c0-0.1,0-0.2,0-0.3\n",
       "                    C81.8,14,77,9.8,71.5,10.2c-5,0.3-9,4.2-9.3,9.2c-0.2,5.5,4,10.1,9.5,10.3C71.8,29.7,72,29.7,72.1,29.7z M72.3,62.3\n",
       "                    c-5.4-0.1-9.9,4.2-10.1,9.7c0,0.2,0,0.3,0,0.5c0.2,5.4,4.5,9.7,9.9,10c5.1,0.1,9.9-4.7,10.1-9.8c0.2-5.5-4-10-9.5-10.3\n",
       "                    C72.6,62.3,72.4,62.3,72.3,62.3z M115,72.5c0.1,5.4,4.5,9.7,9.8,9.9c5.6-0.2,10-4.8,10-10.4c-0.2-5.4-4.6-9.7-10-9.7\n",
       "                    c-5.3-0.1-9.8,4.2-9.9,9.5C115,72.1,115,72.3,115,72.5z M19.5,62.3c-5.4,0.1-9.8,4.4-10,9.8c-0.1,5.1,5.2,10.4,10.2,10.3\n",
       "                    c5.6-0.2,10-4.9,9.8-10.5c-0.1-5.4-4.5-9.7-9.9-9.6C19.6,62.3,19.5,62.3,19.5,62.3z M71.8,134.6c5.9,0.2,10.3-3.9,10.4-9.6\n",
       "                    c0.5-5.5-3.6-10.4-9.1-10.8c-5.5-0.5-10.4,3.6-10.8,9.1c0,0.5,0,0.9,0,1.4c-0.2,5.3,4,9.8,9.3,10\n",
       "                    C71.6,134.6,71.7,134.6,71.8,134.6z\"/>\n",
       "            </g>\n",
       "        </svg>\n",
       "        <table>\n",
       "            <tr>\n",
       "                <td style=\"text-align: left\"><b>Python version:</b></td>\n",
       "                <td style=\"text-align: left\"><b>3.8.0</b></td>\n",
       "            </tr>\n",
       "            <tr>\n",
       "                <td style=\"text-align: left\"><b>Ray version:</b></td>\n",
       "                <td style=\"text-align: left\"><b> 2.0.0</b></td>\n",
       "            </tr>\n",
       "            \n",
       "        </table>\n",
       "    </div>\n",
       "</div>\n"
      ],
      "text/plain": [
       "RayContext(dashboard_url='', python_version='3.8.0', ray_version='2.0.0', ray_commit='cba26cc83f6b5b8a2ff166594a65cb74c0ec8740', address_info={'node_ip_address': '127.0.0.1', 'raylet_ip_address': '127.0.0.1', 'redis_address': None, 'object_store_address': '/tmp/ray/session_2022-10-19_11-45-00_559798_60712/sockets/plasma_store', 'raylet_socket_name': '/tmp/ray/session_2022-10-19_11-45-00_559798_60712/sockets/raylet', 'webui_url': '', 'session_dir': '/tmp/ray/session_2022-10-19_11-45-00_559798_60712', 'metrics_export_port': 64597, 'gcs_address': '127.0.0.1:63227', 'address': '127.0.0.1:63227', 'dashboard_agent_listen_port': 52365, 'node_id': '431c245d75449f29f45d20efc0389415ef2a4942b85d63d98bf57304'})"
      ]
     },
     "execution_count": 2,
     "metadata": {},
     "output_type": "execute_result"
    }
   ],
   "source": [
    "import ray\n",
    "import logging\n",
    "ray.shutdown()\n",
    "ray.init(num_cpus=10, logging_level=logging.ERROR)"
   ]
  },
  {
   "cell_type": "markdown",
   "id": "63008ad9-cc38-468c-a519-8019d87136e2",
   "metadata": {},
   "source": [
    "## Initialize\n",
    "\n",
    "### Reference model and generator \n",
    "\n",
    "We begin by initializing the true market model. We choose the following paramters for demonstration. "
   ]
  },
  {
   "cell_type": "code",
   "execution_count": 3,
   "id": "1992fa58-2f89-4468-a3ff-a76af7318b41",
   "metadata": {},
   "outputs": [],
   "source": [
    "bs_parameters = BlackScholesParameterSet(drift=0.0, sigma=0.2)\n",
    "initial_asset_price = 1.0"
   ]
  },
  {
   "cell_type": "markdown",
   "id": "15e802ab-efb0-4d18-af48-a891ae0ecb29",
   "metadata": {},
   "source": [
    "Moreover, we need the following market parameters:"
   ]
  },
  {
   "cell_type": "code",
   "execution_count": 4,
   "id": "7384ddfd-0549-4562-83d3-c33f2b6042ba",
   "metadata": {},
   "outputs": [],
   "source": [
    "trading_freq: int = 5\n",
    "td = UniformTimeDiscretization(trading_freq * 1. / 255., 90 // trading_freq)\n",
    "derivative = EuropeanCallOption(strike=1.0, time_discretization=td, price=0.0)"
   ]
  },
  {
   "cell_type": "markdown",
   "id": "20f7bcd4-d244-46f3-9516-2d9e933ad83e",
   "metadata": {},
   "source": [
    "This allows us to define a generator for the true underlying model: "
   ]
  },
  {
   "cell_type": "code",
   "execution_count": 5,
   "id": "b0554433-e4c9-4257-a32c-2b1f2e9394a8",
   "metadata": {},
   "outputs": [],
   "source": [
    "reference_generator = BlackScholesGenerator(\n",
    "    drift=np.array([bs_parameters.drift]),\n",
    "    sigma=np.array([bs_parameters.sigma]),\n",
    ").provide_generator(\n",
    "    initial_value=np.array([initial_asset_price]),\n",
    "    times=td.times,\n",
    "    random_number_generator=np.random.default_rng(1111),\n",
    ")"
   ]
  },
  {
   "cell_type": "markdown",
   "id": "5edc42e4-dda0-4c4c-9513-a6c2fc3b7d5e",
   "metadata": {},
   "source": [
    "### Generate small data environments\n",
    "\n",
    "We now generate `number_of_scenarios` scenarios, where we only few paths from the reference model given."
   ]
  },
  {
   "cell_type": "code",
   "execution_count": 6,
   "id": "f018c211-e8fb-4409-880e-085bdf88a92a",
   "metadata": {},
   "outputs": [],
   "source": [
    "number_of_scenarios = 500"
   ]
  },
  {
   "cell_type": "code",
   "execution_count": 7,
   "id": "d5939994-54b6-4aa5-8f33-21ba046b06ea",
   "metadata": {},
   "outputs": [],
   "source": [
    "scenarios = [reference_generator(30) for _ in range(number_of_scenarios)] "
   ]
  },
  {
   "cell_type": "markdown",
   "id": "295495aa-bd61-4bfb-b404-c66a4cde602a",
   "metadata": {},
   "source": [
    "### Define corresponding penalties\n",
    "\n",
    "We can now initialize penalties that determine the distance to the generated paths in each scenario. "
   ]
  },
  {
   "cell_type": "code",
   "execution_count": 8,
   "id": "af1ccf50-98e1-43f6-85a2-2d9a877c3130",
   "metadata": {},
   "outputs": [],
   "source": [
    "pen_config = VolatilityComparisonConfig(td)\n",
    "penalizers = [\n",
    "    CompareVolatility(scenario, pen_config, transform=lambda x: 5 * x) for scenario in scenarios # 0.8\n",
    "]"
   ]
  },
  {
   "cell_type": "markdown",
   "id": "2d04ffb7-cb64-4516-a44a-af3ea04ccd96",
   "metadata": {},
   "source": [
    "They measure the distance of generated paths by considering the distance to the heuristic volatility. "
   ]
  },
  {
   "cell_type": "code",
   "execution_count": 9,
   "id": "f6e8378d-219c-4451-a0ce-3a07363ec7af",
   "metadata": {},
   "outputs": [],
   "source": [
    "volatilities_for_scenarios = [torch.mean(pen.original_volatility).item() for pen in penalizers]\n",
    "# volatilities_for_scenarios = np.ones(50)*0.17"
   ]
  },
  {
   "cell_type": "code",
   "execution_count": 10,
   "id": "ea853909-ffc0-4515-b5de-27737782f206",
   "metadata": {},
   "outputs": [
    {
     "data": {
      "image/png": "[encoded data removed]",
      "text/plain": [
       "<Figure size 360x216 with 1 Axes>"
      ]
     },
     "metadata": {
      "needs_background": "light"
     },
     "output_type": "display_data"
    }
   ],
   "source": [
    "fig, axs = plt.subplots(1, 1, figsize=(5,3))\n",
    "axs.hist(volatilities_for_scenarios, bins=41)\n",
    "plt.tight_layout()\n",
    "plt.show()"
   ]
  },
  {
   "cell_type": "markdown",
   "id": "6bd00a6c-b90b-472d-a615-2f5948789991",
   "metadata": {},
   "source": [
    "### Initialize generators\n",
    "\n",
    "With this, we can now initialize an `SdeGenerator` that has `BlackScholesCoefficient` corresponding to the above estimates. \n",
    "\n",
    "Note that formally these would be calibrated to the data in this step, but we omit this, since the result is obviously equivalent. "
   ]
  },
  {
   "cell_type": "code",
   "execution_count": 11,
   "id": "23751f11-f14d-4336-81c2-d863b5608d90",
   "metadata": {},
   "outputs": [],
   "source": [
    "generators = []\n",
    "for vol in volatilities_for_scenarios:\n",
    "    coef_config = BlackScholesCoefficientConfig(\n",
    "        BlackScholesParameterSet(drift=bs_parameters.drift, sigma=vol),\n",
    "        initial_asset_price=1.0,\n",
    "    )\n",
    "    drift_coef, diffusion_coef = BlackScholesDriftCoefficient(coef_config), BlackScholesDiffusionCoefficient(coef_config)\n",
    "    gen_config = GeneratorConfig(td, drift_coef.get_initial_asset_price, drift_coef, diffusion_coef)\n",
    "    generators.append(SdeGenerator(generator_config=gen_config))"
   ]
  },
  {
   "cell_type": "markdown",
   "id": "0b5ddc06-59d2-44ee-8dc7-ba03219e19b4",
   "metadata": {},
   "source": [
    "We disable the training for all drift parameters:"
   ]
  },
  {
   "cell_type": "code",
   "execution_count": 12,
   "id": "c11757de-9934-4da1-a3aa-bb8477b2598d",
   "metadata": {},
   "outputs": [],
   "source": [
    "for g in generators:\n",
    "    g.drift.drift.requires_grad = False"
   ]
  },
  {
   "cell_type": "markdown",
   "id": "42851e82-3d35-4686-a8ff-687c650e7287",
   "metadata": {},
   "source": [
    "### Noise Generator\n",
    "In order to utilize the generator, we require a noise generator. In this case, this is a simple Brownian motion generator:"
   ]
  },
  {
   "cell_type": "code",
   "execution_count": 13,
   "id": "54eaa055-b629-4295-94df-bd0eb469ea4e",
   "metadata": {},
   "outputs": [],
   "source": [
    "noise_generator = BrownianMotionGenerator().provide_increment_generator(\n",
    "    initial_value=np.zeros(1),\n",
    "    times=td.times,\n",
    "    random_number_generator=np.random.default_rng(4444),\n",
    ")"
   ]
  },
  {
   "cell_type": "markdown",
   "id": "d99d895e-1b59-4764-b5c2-ed89ad79fdad",
   "metadata": {},
   "source": [
    "We can now verify that the generators are initialized accordingly."
   ]
  },
  {
   "cell_type": "code",
   "execution_count": 14,
   "id": "6f296c1a-a3bf-4b2b-a371-642a8c752e9f",
   "metadata": {},
   "outputs": [],
   "source": [
    "# initialization_errors = [p(g(noise_generator(1000))).item() for g, p in tqdm(zip(generators, penalizers), total=1000)]"
   ]
  },
  {
   "cell_type": "code",
   "execution_count": 15,
   "id": "8d8f41cf-321d-4d21-9240-709ad9727678",
   "metadata": {},
   "outputs": [],
   "source": [
    "# fig, axs = plt.subplots(1, 1, figsize=(5,3))\n",
    "# axs.hist(initialization_errors, bins=41)\n",
    "# plt.tight_layout()\n",
    "# plt.show()"
   ]
  },
  {
   "cell_type": "markdown",
   "id": "502c7231-0c23-4183-a52e-0e85812f6d40",
   "metadata": {},
   "source": [
    "## Deep Hedging\n",
    "\n",
    "We will now train a deep hedge on each of the individual models. This has tow purposes\n",
    "\n",
    "1. we use these deep hedges as pre-trained components for the actual application of the robust hedge GAN, and\n",
    "2. we will use these hedges to compare the robust hedge GAN on out-of-sample generated data against."
   ]
  },
  {
   "cell_type": "markdown",
   "id": "1af48580-152e-43cb-8495-0a9db3fa13fd",
   "metadata": {},
   "source": [
    "### Initialization \n",
    "\n",
    "We begin by setting a hedging objective, since it remains the same over all models. "
   ]
  },
  {
   "cell_type": "code",
   "execution_count": 16,
   "id": "128a725e-f74e-48c0-beab-a55329293ad7",
   "metadata": {},
   "outputs": [],
   "source": [
    "hedge_objective = MeanVariance(84)"
   ]
  },
  {
   "cell_type": "markdown",
   "id": "a6678946-92a7-4cb8-a68e-07cf363bef08",
   "metadata": {},
   "source": [
    "Next, we define the deep hedges."
   ]
  },
  {
   "cell_type": "code",
   "execution_count": 17,
   "id": "025fc2ed-bf5b-455d-90d7-0abbb35d2d55",
   "metadata": {},
   "outputs": [],
   "source": [
    "ref_hedge = DeepHedge(DeepHedgeConfig(\n",
    "    derivative,\n",
    "    torch.tensor([initial_asset_price], dtype=torch.float32),\n",
    "    StrategyNetConfig(\n",
    "        dim_of_information_process=1,\n",
    "        dim_of_tradable_asset=1,\n",
    "        number_of_layers=2,\n",
    "        nodes_in_intermediate_layers=100,\n",
    "    ),\n",
    "))"
   ]
  },
  {
   "cell_type": "code",
   "execution_count": 18,
   "id": "58cb1d64-de79-4de6-9a1e-20b9c3c3d638",
   "metadata": {},
   "outputs": [],
   "source": [
    "deep_hedges = []\n",
    "for g in generators:\n",
    "    strategy_config = StrategyNetConfig(\n",
    "        dim_of_information_process=1,\n",
    "        dim_of_tradable_asset=1,\n",
    "        number_of_layers=2,\n",
    "        nodes_in_intermediate_layers=100,\n",
    "    )\n",
    "    initial_asset_price_for_deep_hedge = torch.tensor([initial_asset_price], dtype=torch.float32)\n",
    "    deep_hedges.append(DeepHedge(DeepHedgeConfig(derivative, initial_asset_price_for_deep_hedge, strategy_config)))"
   ]
  },
  {
   "cell_type": "markdown",
   "id": "be13609e-e17a-4bad-b496-7f944e3f3a44",
   "metadata": {},
   "source": [
    "### Training\n",
    "\n",
    "We will now train each individual hedge on the corresponding generator. For this we will use "
   ]
  },
  {
   "cell_type": "code",
   "execution_count": 19,
   "id": "f9565ebc-e9b4-4301-9c25-e183fac1f4cb",
   "metadata": {},
   "outputs": [],
   "source": [
    "sample_size = 100000\n",
    "batch_sizes_for_epoch = [100]*3 + [1000]*1 + [10000]*2\n",
    "target_folder = 'resources/network-states/bs_test_v3'"
   ]
  },
  {
   "cell_type": "code",
   "execution_count": 20,
   "id": "3dfb3ef2-99da-4354-b569-181ff6ffc878",
   "metadata": {},
   "outputs": [],
   "source": [
    "ref_hedge_address = f'{target_folder}/ref_hedge.pt'\n",
    "ref_dht = DeepHedgeTrainer(\n",
    "    dh=ref_hedge,\n",
    "    config=DeepHedgeTrainerConfig(hedge_objective),\n",
    "    trainer_config=TrainerConfig(sample_size, gen_factory(g, noise_generator), None),\n",
    ")\n",
    "torch.save(\n",
    "    ref_dht.get_weights_from_load_and_fitting_procedure(\n",
    "        f=ref_hedge_address,\n",
    "        batch_sizes=batch_sizes_for_epoch,\n",
    "        pbar_option=PbarOption.VANISHING_BATCH_BAR,\n",
    "    ), \n",
    "    ref_hedge_address,\n",
    ") "
   ]
  },
  {
   "cell_type": "code",
   "execution_count": 21,
   "id": "1ee1874d-d095-4f23-977c-5c9b4724a608",
   "metadata": {},
   "outputs": [],
   "source": [
    "sample_size = 10000\n",
    "batch_sizes_for_epoch = 10*[100] + 10*[5000] "
   ]
  },
  {
   "cell_type": "code",
   "execution_count": 22,
   "id": "58ee83df-df95-46fe-957d-15d5ac440eae",
   "metadata": {},
   "outputs": [],
   "source": [
    "@ray.remote\n",
    "def train_dh_remote(i, g, dh, hedge_objective, sample_size, noise_generator):\n",
    "    dht_config = DeepHedgeTrainerConfig(hedge_objective)\n",
    "    t_config = TrainerConfig(sample_size, gen_factory(g, noise_generator), None)\n",
    "    dht = DeepHedgeTrainer(\n",
    "        dh=dh,\n",
    "        config=dht_config,\n",
    "        trainer_config=t_config,\n",
    "    )\n",
    "    return i, dht.get_weights_from_load_and_fitting_procedure(\n",
    "        f=f'{target_folder}/hedge_parameters_{i}.pt',\n",
    "        batch_sizes=batch_sizes_for_epoch,\n",
    "        pretrained=ref_hedge_address,\n",
    "        loss_curve_address=f'{target_folder}/hedge_loss_curve_{i}'\n",
    "    )\n",
    "    "
   ]
  },
  {
   "cell_type": "code",
   "execution_count": 23,
   "id": "d725ff45-1135-4462-9567-5c1bea65feb7",
   "metadata": {},
   "outputs": [],
   "source": [
    "id_gen = (train_dh_remote.remote(\n",
    "    i=i,\n",
    "    dh=dh,\n",
    "    g=g,\n",
    "    hedge_objective=hedge_objective,\n",
    "    sample_size=sample_size,\n",
    "    noise_generator=noise_generator,\n",
    ") for i, (dh, g) in enumerate(zip(deep_hedges, generators)))"
   ]
  },
  {
   "cell_type": "code",
   "execution_count": 24,
   "id": "a40809dd-0971-41e8-9297-afee65e27683",
   "metadata": {
    "tags": []
   },
   "outputs": [
    {
     "data": {
      "application/vnd.jupyter.widget-view+json": {
       "model_id": "a8dd44db69484fda98ec59030cdb73de",
       "version_major": 2,
       "version_minor": 0
      },
      "text/plain": [
       "HBox(children=(FloatProgress(value=0.0, max=500.0), HTML(value='')))"
      ]
     },
     "metadata": {},
     "output_type": "display_data"
    },
    {
     "name": "stdout",
     "output_type": "stream",
     "text": [
      "\n"
     ]
    }
   ],
   "source": [
    "for i, state_dict in tqdm(to_limited_iterator(id_gen, 12), total=len(deep_hedges)):\n",
    "    deep_hedges[i].load_state_dict(state_dict)\n",
    "    torch.save(deep_hedges[i].state_dict(), f'{target_folder}/hedge_parameters_{i}.pt') "
   ]
  },
  {
   "cell_type": "code",
   "execution_count": 25,
   "id": "72d07e1f-53f7-438a-935b-a73a196e35f2",
   "metadata": {},
   "outputs": [
    {
     "data": {
      "image/png": "[encoded data removed]",
      "text/plain": [
       "<Figure size 432x288 with 1 Axes>"
      ]
     },
     "metadata": {
      "needs_background": "light"
     },
     "output_type": "display_data"
    }
   ],
   "source": [
    "for i in [22]:\n",
    "    plt.plot(np.load(f'{target_folder}/hedge_loss_curve_{i}.npy', allow_pickle=True))"
   ]
  },
  {
   "cell_type": "markdown",
   "id": "ec2a1f4b-52f2-466e-9fe5-8eb9968f959b",
   "metadata": {},
   "source": [
    "### Testing "
   ]
  },
  {
   "cell_type": "code",
   "execution_count": 26,
   "id": "d3c1bbd1-d02e-486b-b7bf-0288abe537ba",
   "metadata": {},
   "outputs": [],
   "source": [
    "# (We initialize the reference generator to reset the RNG)\n",
    "reference_generator = BlackScholesGenerator(\n",
    "    drift=np.array([bs_parameters.drift]),\n",
    "    sigma=np.array([bs_parameters.sigma]),\n",
    ").provide_generator(\n",
    "    initial_value=np.array([initial_asset_price]),\n",
    "    times=td.times,\n",
    "    random_number_generator=np.random.default_rng(1111),\n",
    ")\n",
    "test_data = torch.diff(reference_generator(10000), 1, 1)"
   ]
  },
  {
   "cell_type": "code",
   "execution_count": 27,
   "id": "02ca2985-93f4-4f44-bdb5-5375e02739d9",
   "metadata": {},
   "outputs": [
    {
     "data": {
      "image/png": "[encoded data removed]",
      "text/plain": [
       "<Figure size 432x288 with 1 Axes>"
      ]
     },
     "metadata": {
      "needs_background": "light"
     },
     "output_type": "display_data"
    }
   ],
   "source": [
    "ref_hedge.eval()\n",
    "deep_hedge_results = np.sum(ref_hedge(test_data).detach().numpy() * test_data.numpy(), axis=(1, 2))\n",
    "terminal_values_on_test = np.sum(test_data.numpy(), axis=1)[:, 0] + 1.0\n",
    "plt.scatter(terminal_values_on_test, deep_hedge_results, s=.1)\n",
    "ref_hedge.train()\n",
    "plt.show()"
   ]
  },
  {
   "cell_type": "code",
   "execution_count": 28,
   "id": "d848cab7-b09e-4211-9004-05661cde0aeb",
   "metadata": {},
   "outputs": [
    {
     "data": {
      "application/vnd.jupyter.widget-view+json": {
       "model_id": "72d20017c18f4bf1b11ddd0f93d5015e",
       "version_major": 2,
       "version_minor": 0
      },
      "text/plain": [
       "HBox(children=(FloatProgress(value=1.0, bar_style='info', max=1.0), HTML(value='')))"
      ]
     },
     "metadata": {},
     "output_type": "display_data"
    },
    {
     "name": "stdout",
     "output_type": "stream",
     "text": [
      "\n"
     ]
    }
   ],
   "source": [
    "@ray.remote\n",
    "def compute_hedge_objective(i, dh):\n",
    "    return i, hedge_objective(dh(test_data)).item()\n",
    "\n",
    "oosp_dict = {i: p for i, p in to_limited_iterator((compute_hedge_objective.remote(i=i, dh=dh) for i, dh in tqdm(enumerate(deep_hedges))), 12)}\n",
    "oosp = [oosp_dict[i] for i, _ in enumerate(deep_hedges)]"
   ]
  },
  {
   "cell_type": "code",
   "execution_count": 29,
   "id": "5aad6d4e-47ae-4a59-bfb6-9d07889565bc",
   "metadata": {
    "tags": []
   },
   "outputs": [],
   "source": [
    "# oosp = [hedge_objective(dh(test_data)).item() for dh in tqdm(deep_hedges)]"
   ]
  },
  {
   "cell_type": "code",
   "execution_count": 30,
   "id": "32e28eb6-dfbc-4482-8819-145d7ef96ed0",
   "metadata": {},
   "outputs": [
    {
     "data": {
      "image/png": "[encoded data removed]",
      "text/plain": [
       "<Figure size 432x288 with 1 Axes>"
      ]
     },
     "metadata": {
      "needs_background": "light"
     },
     "output_type": "display_data"
    }
   ],
   "source": [
    "plt.scatter(volatilities_for_scenarios, oosp, s=1)\n",
    "plt.tight_layout()\n",
    "plt.show()"
   ]
  },
  {
   "cell_type": "markdown",
   "id": "4249b7eb-e238-4d26-9ea0-e9c6ab868690",
   "metadata": {},
   "source": [
    "### Robust Hedge GAN"
   ]
  },
  {
   "cell_type": "code",
   "execution_count": 31,
   "id": "8159d4a5-db7a-4051-bf7b-9962dedf0822",
   "metadata": {},
   "outputs": [],
   "source": [
    "sample_size = 10000\n",
    "batch_sizes_for_epoch = 10*[1000] + 10*[5000]"
   ]
  },
  {
   "cell_type": "code",
   "execution_count": 32,
   "id": "1c0804b5-1b88-425c-86cb-d5bf4c5601a1",
   "metadata": {
    "tags": []
   },
   "outputs": [],
   "source": [
    "# i = 0\n",
    "# dh = deep_hedges[i]\n",
    "# p = penalizers[i]\n",
    "# g = generators[i]\n",
    "# dht_config = DeepHedgeTrainerConfig(\n",
    "#     hedge_objective=hedge_objective,\n",
    "#     generation_adapters=AdapterList([ConvertToIncrements()]),\n",
    "# )\n",
    "# gt_config = SdeGeneratorTrainerConfig(\n",
    "#     penalizer=p,\n",
    "#     penalization_adapters=AdapterList([]),\n",
    "# )\n",
    "# t_config = TrainerConfig(sample_size, noise_generator, None)\n",
    "# rhg = RobustDhGan(\n",
    "#     dh=dh, \n",
    "#     hedge_config=dht_config,\n",
    "#     gen=g,\n",
    "#     gen_config=gt_config,\n",
    "#     trainer_config=t_config,\n",
    "# )\n",
    "# \n",
    "# rhg.fit(\n",
    "#     batch_sizes=batch_sizes_for_epoch,\n",
    "#     pbar_option=PbarOption.EPOCH_BAR,\n",
    "#     loss_curve_address=f'{target_folder}/0000_example_loss_curve',\n",
    "# )\n",
    "# \n",
    "# fig, axs = plt.subplots(1, 3, figsize = (12, 4))\n",
    "# for i, ax in enumerate(axs):\n",
    "#     ax.plot(np.load(f'{target_folder}/0000_example_loss_curve.npy', allow_pickle=True)[:, i])\n",
    "# \n",
    "# dh.eval()\n",
    "# deep_hedge_results = np.sum(dh(test_data).detach().numpy() * test_data.numpy(), axis=(1, 2))\n",
    "# terminal_values_on_test = np.sum(test_data.numpy(), axis=1)[:, 0] + 1.0\n",
    "# plt.scatter(terminal_values_on_test, deep_hedge_results, s=.1)\n",
    "# dh.train()\n",
    "# plt.show()"
   ]
  },
  {
   "cell_type": "code",
   "execution_count": 33,
   "id": "b540ed38-8efd-4717-83f8-826e17b12d7f",
   "metadata": {},
   "outputs": [],
   "source": [
    "robust_dh_gans = []\n",
    "for dh, p, g in zip(deep_hedges, penalizers, generators):\n",
    "    dht_config = DeepHedgeTrainerConfig(\n",
    "        hedge_objective=hedge_objective,\n",
    "        generation_adapters=AdapterList([ConvertToIncrements()]),\n",
    "    )\n",
    "    gt_config = SdeGeneratorTrainerConfig(\n",
    "        penalizer=p,\n",
    "        penalization_adapters=AdapterList([]),\n",
    "    )\n",
    "    t_config = TrainerConfig(sample_size, noise_generator, None)\n",
    "    robust_dh_gans.append(RobustDhGan(\n",
    "        dh=dh, \n",
    "        hedge_config=dht_config,\n",
    "        gen=g,\n",
    "        gen_config=gt_config,\n",
    "        trainer_config=t_config,\n",
    "    ))"
   ]
  },
  {
   "cell_type": "code",
   "execution_count": 34,
   "id": "4988fd92-40f6-47bd-b29c-ce4b0257a104",
   "metadata": {},
   "outputs": [],
   "source": [
    "@ray.remote\n",
    "def train_rhgan_remote(i, rhg):\n",
    "    return i, rhg.get_weights_from_load_and_fitting_procedure(\n",
    "        f=f'{target_folder}/rhgan_parameters_{i}.pt',\n",
    "        batch_sizes=batch_sizes_for_epoch,\n",
    "        loss_curve_address=f'{target_folder}/rhgan_loss_curve_{i}',\n",
    "    )\n",
    "    "
   ]
  },
  {
   "cell_type": "code",
   "execution_count": 35,
   "id": "69f8da59-4719-4d42-b7d9-c66a5b6973d2",
   "metadata": {},
   "outputs": [],
   "source": [
    "id_gen = (train_rhgan_remote.remote(i=i, rhg=rhg) for i, rhg in enumerate(robust_dh_gans))"
   ]
  },
  {
   "cell_type": "code",
   "execution_count": 36,
   "id": "f49bf8a4-b7d7-454d-bd90-12f3ea05b038",
   "metadata": {},
   "outputs": [
    {
     "data": {
      "application/vnd.jupyter.widget-view+json": {
       "model_id": "b19583a4e29a4a74877ba151557a3e83",
       "version_major": 2,
       "version_minor": 0
      },
      "text/plain": [
       "HBox(children=(FloatProgress(value=0.0, max=500.0), HTML(value='')))"
      ]
     },
     "metadata": {},
     "output_type": "display_data"
    },
    {
     "name": "stderr",
     "output_type": "stream",
     "text": [
      "\u001b[2m\u001b[36m(train_rhgan_remote pid=60728)\u001b[0m /usr/local/anaconda3/envs/ARDH/lib/python3.8/site-packages/torch/optim/lr_scheduler.py:122: UserWarning: Seems like `optimizer.step()` has been overridden after learning rate scheduler initialization. Please, make sure to call `optimizer.step()` before `lr_scheduler.step()`. See more details at https://pytorch.org/docs/stable/optim.html#how-to-adjust-learning-rate\n",
      "\u001b[2m\u001b[36m(train_rhgan_remote pid=60728)\u001b[0m   warnings.warn(\"Seems like `optimizer.step()` has been overridden after learning rate scheduler \"\n",
      "\u001b[2m\u001b[36m(train_rhgan_remote pid=60735)\u001b[0m /usr/local/anaconda3/envs/ARDH/lib/python3.8/site-packages/torch/optim/lr_scheduler.py:122: UserWarning: Seems like `optimizer.step()` has been overridden after learning rate scheduler initialization. Please, make sure to call `optimizer.step()` before `lr_scheduler.step()`. See more details at https://pytorch.org/docs/stable/optim.html#how-to-adjust-learning-rate\n",
      "\u001b[2m\u001b[36m(train_rhgan_remote pid=60735)\u001b[0m   warnings.warn(\"Seems like `optimizer.step()` has been overridden after learning rate scheduler \"\n",
      "\u001b[2m\u001b[36m(train_rhgan_remote pid=60727)\u001b[0m /usr/local/anaconda3/envs/ARDH/lib/python3.8/site-packages/torch/optim/lr_scheduler.py:122: UserWarning: Seems like `optimizer.step()` has been overridden after learning rate scheduler initialization. Please, make sure to call `optimizer.step()` before `lr_scheduler.step()`. See more details at https://pytorch.org/docs/stable/optim.html#how-to-adjust-learning-rate\n",
      "\u001b[2m\u001b[36m(train_rhgan_remote pid=60727)\u001b[0m   warnings.warn(\"Seems like `optimizer.step()` has been overridden after learning rate scheduler \"\n",
      "\u001b[2m\u001b[36m(train_rhgan_remote pid=60732)\u001b[0m /usr/local/anaconda3/envs/ARDH/lib/python3.8/site-packages/torch/optim/lr_scheduler.py:122: UserWarning: Seems like `optimizer.step()` has been overridden after learning rate scheduler initialization. Please, make sure to call `optimizer.step()` before `lr_scheduler.step()`. See more details at https://pytorch.org/docs/stable/optim.html#how-to-adjust-learning-rate\n",
      "\u001b[2m\u001b[36m(train_rhgan_remote pid=60732)\u001b[0m   warnings.warn(\"Seems like `optimizer.step()` has been overridden after learning rate scheduler \"\n",
      "\u001b[2m\u001b[36m(train_rhgan_remote pid=60733)\u001b[0m /usr/local/anaconda3/envs/ARDH/lib/python3.8/site-packages/torch/optim/lr_scheduler.py:122: UserWarning: Seems like `optimizer.step()` has been overridden after learning rate scheduler initialization. Please, make sure to call `optimizer.step()` before `lr_scheduler.step()`. See more details at https://pytorch.org/docs/stable/optim.html#how-to-adjust-learning-rate\n",
      "\u001b[2m\u001b[36m(train_rhgan_remote pid=60733)\u001b[0m   warnings.warn(\"Seems like `optimizer.step()` has been overridden after learning rate scheduler \"\n",
      "\u001b[2m\u001b[36m(train_rhgan_remote pid=60734)\u001b[0m /usr/local/anaconda3/envs/ARDH/lib/python3.8/site-packages/torch/optim/lr_scheduler.py:122: UserWarning: Seems like `optimizer.step()` has been overridden after learning rate scheduler initialization. Please, make sure to call `optimizer.step()` before `lr_scheduler.step()`. See more details at https://pytorch.org/docs/stable/optim.html#how-to-adjust-learning-rate\n",
      "\u001b[2m\u001b[36m(train_rhgan_remote pid=60734)\u001b[0m   warnings.warn(\"Seems like `optimizer.step()` has been overridden after learning rate scheduler \"\n",
      "\u001b[2m\u001b[36m(train_rhgan_remote pid=60736)\u001b[0m /usr/local/anaconda3/envs/ARDH/lib/python3.8/site-packages/torch/optim/lr_scheduler.py:122: UserWarning: Seems like `optimizer.step()` has been overridden after learning rate scheduler initialization. Please, make sure to call `optimizer.step()` before `lr_scheduler.step()`. See more details at https://pytorch.org/docs/stable/optim.html#how-to-adjust-learning-rate\n",
      "\u001b[2m\u001b[36m(train_rhgan_remote pid=60736)\u001b[0m   warnings.warn(\"Seems like `optimizer.step()` has been overridden after learning rate scheduler \"\n",
      "\u001b[2m\u001b[36m(train_rhgan_remote pid=60729)\u001b[0m /usr/local/anaconda3/envs/ARDH/lib/python3.8/site-packages/torch/optim/lr_scheduler.py:122: UserWarning: Seems like `optimizer.step()` has been overridden after learning rate scheduler initialization. Please, make sure to call `optimizer.step()` before `lr_scheduler.step()`. See more details at https://pytorch.org/docs/stable/optim.html#how-to-adjust-learning-rate\n",
      "\u001b[2m\u001b[36m(train_rhgan_remote pid=60729)\u001b[0m   warnings.warn(\"Seems like `optimizer.step()` has been overridden after learning rate scheduler \"\n",
      "\u001b[2m\u001b[36m(train_rhgan_remote pid=60730)\u001b[0m /usr/local/anaconda3/envs/ARDH/lib/python3.8/site-packages/torch/optim/lr_scheduler.py:122: UserWarning: Seems like `optimizer.step()` has been overridden after learning rate scheduler initialization. Please, make sure to call `optimizer.step()` before `lr_scheduler.step()`. See more details at https://pytorch.org/docs/stable/optim.html#how-to-adjust-learning-rate\n",
      "\u001b[2m\u001b[36m(train_rhgan_remote pid=60730)\u001b[0m   warnings.warn(\"Seems like `optimizer.step()` has been overridden after learning rate scheduler \"\n",
      "\u001b[2m\u001b[36m(train_rhgan_remote pid=60731)\u001b[0m /usr/local/anaconda3/envs/ARDH/lib/python3.8/site-packages/torch/optim/lr_scheduler.py:122: UserWarning: Seems like `optimizer.step()` has been overridden after learning rate scheduler initialization. Please, make sure to call `optimizer.step()` before `lr_scheduler.step()`. See more details at https://pytorch.org/docs/stable/optim.html#how-to-adjust-learning-rate\n",
      "\u001b[2m\u001b[36m(train_rhgan_remote pid=60731)\u001b[0m   warnings.warn(\"Seems like `optimizer.step()` has been overridden after learning rate scheduler \"\n"
     ]
    },
    {
     "name": "stdout",
     "output_type": "stream",
     "text": [
      "\n"
     ]
    }
   ],
   "source": [
    "for i, state_dict in tqdm(to_limited_iterator(id_gen, 12), total=len(robust_dh_gans)):\n",
    "    robust_dh_gans[i].load_state_dict(state_dict)\n",
    "    torch.save(robust_dh_gans[i].state_dict(), f'{target_folder}/rhgan_parameters_{i}.pt') "
   ]
  },
  {
   "cell_type": "code",
   "execution_count": 51,
   "id": "35c1ddf0-5707-4abe-94e3-8d999b17ee4b",
   "metadata": {},
   "outputs": [
    {
     "data": {
      "image/png": "[encoded data removed]",
      "text/plain": [
       "<Figure size 864x288 with 3 Axes>"
      ]
     },
     "metadata": {
      "needs_background": "light"
     },
     "output_type": "display_data"
    }
   ],
   "source": [
    "fig, axs = plt.subplots(1, 3, figsize = (12, 4))\n",
    "for i, ax in enumerate(axs):\n",
    "    ax.plot(np.load(f'{target_folder}/rhgan_loss_curve_7.npy', allow_pickle=True)[:, i])"
   ]
  },
  {
   "cell_type": "markdown",
   "id": "3f9d499d-ee4f-4139-9f21-555fef50a310",
   "metadata": {},
   "source": [
    "## Training"
   ]
  },
  {
   "cell_type": "code",
   "execution_count": 38,
   "id": "6f665163-bbbe-4d6e-95c2-2af98a2798cc",
   "metadata": {},
   "outputs": [
    {
     "data": {
      "application/vnd.jupyter.widget-view+json": {
       "model_id": "b290e83f301443e3a2c269c6f4a9fef0",
       "version_major": 2,
       "version_minor": 0
      },
      "text/plain": [
       "HBox(children=(FloatProgress(value=0.0, max=500.0), HTML(value='')))"
      ]
     },
     "metadata": {},
     "output_type": "display_data"
    },
    {
     "name": "stdout",
     "output_type": "stream",
     "text": [
      "\n"
     ]
    }
   ],
   "source": [
    "oosp_robust = [hedge_objective(dh(test_data)).item() for dh in tqdm(deep_hedges)]"
   ]
  },
  {
   "cell_type": "code",
   "execution_count": 39,
   "id": "8f084dff-a952-42ff-834d-d767a992e153",
   "metadata": {},
   "outputs": [
    {
     "data": {
      "image/png": "[encoded data removed]",
      "text/plain": [
       "<Figure size 432x288 with 1 Axes>"
      ]
     },
     "metadata": {
      "needs_background": "light"
     },
     "output_type": "display_data"
    }
   ],
   "source": [
    "no_bins = 100\n",
    "plt.hist(oosp, bins=no_bins)\n",
    "plt.hist(oosp_robust, bins=no_bins)\n",
    "plt.tight_layout()\n",
    "plt.show()"
   ]
  },
  {
   "cell_type": "code",
   "execution_count": 54,
   "id": "94d9e167-64f3-4f72-8f1b-0631c0260aaa",
   "metadata": {},
   "outputs": [
    {
     "data": {
      "image/png": "[encoded data removed]",
      "text/plain": [
       "<Figure size 720x288 with 2 Axes>"
      ]
     },
     "metadata": {
      "needs_background": "light"
     },
     "output_type": "display_data"
    },
    {
     "name": "stderr",
     "output_type": "stream",
     "text": [
      "*** SIGTERM received at time=1666183280 ***\n",
      "PC: @     0x7fff206e3c3a  (unknown)  kevent\n",
      "[2022-10-19 13:41:20,890 E 60712 16212191] logging.cc:361: *** SIGTERM received at time=1666183280 ***\n",
      "[2022-10-19 13:41:20,890 E 60712 16212191] logging.cc:361: PC: @     0x7fff206e3c3a  (unknown)  kevent\n"
     ]
    }
   ],
   "source": [
    "fig, axs = plt.subplots(1, 2, figsize = (10, 4))\n",
    "\n",
    "vals_n, bins = np.histogram(oosp, bins=40)\n",
    "vals_r = np.histogram(oosp_robust, bins=bins)[0]\n",
    "bin_centers = 0.5*(bins[1:]+bins[:-1])\n",
    "axs[0].hist(oosp, bins=bins, label='deep hedge', color='C0', alpha=.7)\n",
    "axs[0].hist(oosp_robust, bins=bins, label='robust hedge GAN', color='C1', alpha=.7)\n",
    "axs[0].set_xlabel('Out-of-sample Performance')\n",
    "axs[0].set_ylabel('Frequency')\n",
    "axs[0].set_yscale('log')\n",
    "axs[0].legend()\n",
    "# axs[0].set_title('')\n",
    "\n",
    "axs[1].scatter([bs_parameters.sigma - v for v in volatilities_for_scenarios], oosp_robust, label='robust hedge GAN', s=2, c='C1')\n",
    "axs[1].scatter([bs_parameters.sigma - v for v in volatilities_for_scenarios], oosp, label='deep hedge', s=2, c='C0')\n",
    "axs[1].set_xlabel('Sigma Calibration Error')\n",
    "axs[1].set_ylabel('Out-of-sample Performance')\n",
    "axs[1].legend()\n",
    "# axs[1].set_title()\n",
    "\n",
    "plt.tight_layout()\n",
    "# plt.savefig('figs/BlackScholesRobustification.pdf')\n",
    "plt.show()"
   ]
  },
  {
   "cell_type": "code",
   "execution_count": 41,
   "id": "c1fafbe3-638d-40e3-acfc-e2017459ac47",
   "metadata": {},
   "outputs": [
    {
     "name": "stdout",
     "output_type": "stream",
     "text": [
      "Naive:   0.05160683248192072\n",
      "Robust:  0.051579540058970454\n",
      "\n",
      "Naive:   0.00016988209112276469\n",
      "Robust:  0.00019164793169050342\n"
     ]
    }
   ],
   "source": [
    "print('Naive:  ', np.mean(oosp))\n",
    "print('Robust: ', np.mean(oosp_robust))\n",
    "print()\n",
    "print('Naive:  ', np.std(oosp))\n",
    "print('Robust: ', np.std(oosp_robust))"
   ]
  },
  {
   "cell_type": "code",
   "execution_count": 42,
   "id": "1ad3bb97-9393-4f40-97cb-270dd2dc925a",
   "metadata": {},
   "outputs": [],
   "source": [
    "notify()"
   ]
  },
  {
   "cell_type": "code",
   "execution_count": 43,
   "id": "d32059d7-9937-4dbc-ac05-e55bea4c23a4",
   "metadata": {},
   "outputs": [
    {
     "data": {
      "text/plain": [
       "1.1281232201928202"
      ]
     },
     "execution_count": 43,
     "metadata": {},
     "output_type": "execute_result"
    }
   ],
   "source": [
    "np.std(oosp_robust)/np.std(oosp)"
   ]
  },
  {
   "cell_type": "code",
   "execution_count": 44,
   "id": "41010093-b3aa-443d-ac81-4e826dd1d24f",
   "metadata": {},
   "outputs": [],
   "source": [
    "# torch.save(dh.state_dict(), 'resources/network-states/deep_hedge_for_heston.pt')"
   ]
  },
  {
   "cell_type": "markdown",
   "id": "16c61f64-2b79-4020-865d-98d473018412",
   "metadata": {},
   "source": [
    "### Loss curves"
   ]
  },
  {
   "cell_type": "code",
   "execution_count": 45,
   "id": "c6debbfa-4a09-49c3-ada3-0905fe80968f",
   "metadata": {},
   "outputs": [],
   "source": [
    "i = 0"
   ]
  },
  {
   "cell_type": "code",
   "execution_count": 46,
   "id": "12add580-86d4-46a7-b1b6-eb8345785b3e",
   "metadata": {},
   "outputs": [],
   "source": [
    "coef_config = BlackScholesCoefficientConfig(\n",
    "    BlackScholesParameterSet(drift=bs_parameters.drift, sigma=volatilities_for_scenarios[i]),\n",
    "    initial_asset_price=1.0,\n",
    ")\n",
    "drift_coef, diffusion_coef = BlackScholesDriftCoefficient(coef_config), BlackScholesDiffusionCoefficient(coef_config)\n",
    "gen_config = GeneratorConfig(td, drift_coef.get_initial_asset_price, drift_coef, diffusion_coef)\n",
    "g = SdeGenerator(generator_config=gen_config)"
   ]
  },
  {
   "cell_type": "code",
   "execution_count": 47,
   "id": "68f01fad-01e7-4d92-8faa-b4a2a77453eb",
   "metadata": {},
   "outputs": [
    {
     "ename": "TypeError",
     "evalue": "__init__() got an unexpected keyword argument 'dimension_of_asset'",
     "output_type": "error",
     "traceback": [
      "\u001b[0;31m---------------------------------------------------------------------------\u001b[0m",
      "\u001b[0;31mTypeError\u001b[0m                                 Traceback (most recent call last)",
      "Input \u001b[0;32mIn [47]\u001b[0m, in \u001b[0;36m<cell line: 1>\u001b[0;34m()\u001b[0m\n\u001b[0;32m----> 1\u001b[0m strategy_config \u001b[38;5;241m=\u001b[39m \u001b[43mStrategyNetConfig\u001b[49m\u001b[43m(\u001b[49m\u001b[43mdimension_of_asset\u001b[49m\u001b[38;5;241;43m=\u001b[39;49m\u001b[38;5;241;43m1\u001b[39;49m\u001b[43m,\u001b[49m\u001b[43m \u001b[49m\u001b[43mnumber_of_layers\u001b[49m\u001b[38;5;241;43m=\u001b[39;49m\u001b[38;5;241;43m3\u001b[39;49m\u001b[43m,\u001b[49m\u001b[43m \u001b[49m\u001b[43mnodes_in_intermediate_layers\u001b[49m\u001b[38;5;241;43m=\u001b[39;49m\u001b[38;5;241;43m36\u001b[39;49m\u001b[43m)\u001b[49m\n\u001b[1;32m      2\u001b[0m initial_asset_price_for_deep_hedge \u001b[38;5;241m=\u001b[39m torch\u001b[38;5;241m.\u001b[39mtensor([initial_asset_price], dtype\u001b[38;5;241m=\u001b[39mtorch\u001b[38;5;241m.\u001b[39mfloat32)\n\u001b[1;32m      3\u001b[0m dh \u001b[38;5;241m=\u001b[39m DeepHedge(DeepHedgeConfig(derivative, initial_asset_price_for_deep_hedge, strategy_config))\n",
      "\u001b[0;31mTypeError\u001b[0m: __init__() got an unexpected keyword argument 'dimension_of_asset'"
     ]
    }
   ],
   "source": [
    "strategy_config = StrategyNetConfig(dimension_of_asset=1, number_of_layers=3, nodes_in_intermediate_layers=36)\n",
    "initial_asset_price_for_deep_hedge = torch.tensor([initial_asset_price], dtype=torch.float32)\n",
    "dh = DeepHedge(DeepHedgeConfig(derivative, initial_asset_price_for_deep_hedge, strategy_config))\n",
    "dh.load_state_dict(torch.load(f'resources/network-states/bs_test/scenario_{i}.pt'))"
   ]
  },
  {
   "cell_type": "code",
   "execution_count": null,
   "id": "8ce92a53-a02e-4a0d-8805-8f20871ce5fa",
   "metadata": {},
   "outputs": [],
   "source": [
    "g_opt = torch.optim.Adam(g.parameters())\n",
    "gen_adapters = AdapterList([])\n",
    "gen_train_config = SdeGeneratorTrainerConfig(g, penalizers[i], g_opt, gen_adapters)\n",
    "\n",
    "h_opt = torch.optim.Adam(dh.parameters())\n",
    "hedge_adapters = AdapterList([ConvertToIncrements()])\n",
    "dh_train_config = DeepHedgeTrainerConfig(dh, hedge_objective, h_opt, hedge_adapters)"
   ]
  },
  {
   "cell_type": "code",
   "execution_count": null,
   "id": "cb350ca0-86b2-4796-b9c4-032f001061cb",
   "metadata": {},
   "outputs": [],
   "source": [
    "batches = [noise_generator(1000) for _ in range(100)]"
   ]
  },
  {
   "cell_type": "code",
   "execution_count": null,
   "id": "7d2998de-51bd-45be-9837-35c104f74c5d",
   "metadata": {},
   "outputs": [],
   "source": [
    "h_losses = QuantityLogger()\n",
    "g_losses = QuantityLogger()\n",
    "p_losses = QuantityLogger()\n",
    "\n",
    "for batch in batches:\n",
    "    generated = g(batch)\n",
    "    profit_and_loss = dh(dh_train_config.generation_adapters(generated))\n",
    "    hedge_loss = hedge_objective(profit_and_loss)\n",
    "    dh.zero_grad()\n",
    "    hedge_loss.backward()\n",
    "    dh_train_config.optimizer.step()\n",
    "    dh_train_config.scheduler.step()\n",
    "    h_losses.update(hedge_loss.item())\n",
    "    \n",
    "    generated = g(batch)\n",
    "    profit_and_loss = dh(dh_train_config.generation_adapters(generated))\n",
    "    hedge_loss = hedge_objective(profit_and_loss)\n",
    "    penalty = penalizers[i](gen_train_config.penalization_adapters(generated))\n",
    "    generation_loss = penalty - hedge_loss\n",
    "    g.zero_grad()\n",
    "    generation_loss.backward()\n",
    "    gen_train_config.optimizer.step()\n",
    "    gen_train_config.scheduler.step()\n",
    "    g_losses.update(generation_loss.item())\n",
    "    p_losses.update(penalty.item())"
   ]
  },
  {
   "cell_type": "code",
   "execution_count": null,
   "id": "9bf7b913-2dd2-49f5-a10e-064568b7c333",
   "metadata": {},
   "outputs": [],
   "source": [
    "import mpl_axes_aligner"
   ]
  },
  {
   "cell_type": "code",
   "execution_count": null,
   "id": "7969a233-8ed4-45c0-b956-e8936c0ccf92",
   "metadata": {},
   "outputs": [],
   "source": [
    "fig, axs = plt.subplots(1, 2, figsize = (10, 4))\n",
    "\n",
    "axs[0].plot(np.load('resources/network-states/bs_test/losses.npz', allow_pickle=True)['scenario_0'], label='Hedge Loss')\n",
    "axs[0].set_xlabel('Iterations')\n",
    "axs[0].set_ylabel('Loss')\n",
    "axs[0].legend()\n",
    "# axs[0].set_title()\n",
    "\n",
    "axs[1].plot(h_losses.history, c='C0', label='Hedge Loss')\n",
    "axs[1].set_xlabel('Iterations')\n",
    "axs[1].set_ylabel('Loss')\n",
    "# axs[1].set_title('')\n",
    "\n",
    "axs_clone = axs[1].twinx()\n",
    "axs_clone.plot(g_losses.history, c='C1', label='Generation Loss')\n",
    "axs[1].legend()\n",
    "axs_clone.legend(loc='lower left')\n",
    "\n",
    "axs_clone.grid(False)\n",
    "\n",
    "mpl_axes_aligner.align.yaxes(axs[1], h_losses.history[0], axs_clone, g_losses.history[0])\n",
    "\n",
    "plt.tight_layout()\n",
    "# plt.savefig('figs/BlackScholesLossCurves.pdf')\n",
    "plt.show()"
   ]
  },
  {
   "cell_type": "code",
   "execution_count": null,
   "id": "43fdfd70-453d-4c61-9428-539012a6f67d",
   "metadata": {},
   "outputs": [],
   "source": [
    "print(g_losses.history[0])\n",
    "print(h_losses.history[0])"
   ]
  },
  {
   "cell_type": "code",
   "execution_count": null,
   "id": "b01c60ab-bfd3-4159-ba13-721ac166d606",
   "metadata": {},
   "outputs": [],
   "source": [
    "dh.load_state_dict(torch.load('resources/network-states/deep_hedge_for_heston.pt'))\n",
    "robust_dh_gan.hedge_config.reset_scheduler()"
   ]
  },
  {
   "cell_type": "code",
   "execution_count": null,
   "id": "acc8a7d7-4655-4984-9d6f-053b7f7798b5",
   "metadata": {},
   "outputs": [],
   "source": [
    "inputs = torch.diff(heston_generator(5000), 1, 1)[:, :, 0:1]"
   ]
  },
  {
   "cell_type": "code",
   "execution_count": null,
   "id": "2dd20500-3e41-4866-9c42-316cb30a10ec",
   "metadata": {},
   "outputs": [],
   "source": [
    "dh.eval()\n",
    "n_res = np.sum(dh(inputs).detach().numpy() * inputs.numpy(), axis=(1, 2))\n",
    "term_a_v = np.sum(inputs.numpy(), axis=1)[:, 0] + 1.0"
   ]
  },
  {
   "cell_type": "code",
   "execution_count": null,
   "id": "dcbf779a-3383-44ae-b8f4-5fec9cb8fee9",
   "metadata": {},
   "outputs": [],
   "source": [
    "plt.scatter(term_a_v, n_res, s=.1)\n",
    "plt.show()"
   ]
  },
  {
   "cell_type": "code",
   "execution_count": null,
   "id": "988360cb-31e9-4ad3-9e2f-4f44e2473ec0",
   "metadata": {},
   "outputs": [],
   "source": [
    "# This is not necessary, we start with the optimal initialization.\n",
    "# robust_dh_gan.deactivate_hedge_training()\n",
    "# robust_dh_gan.fit(5, callbacks=[PrintHestonParameters()])\n",
    "# robust_dh_gan.activate_hedge_training()"
   ]
  },
  {
   "cell_type": "code",
   "execution_count": null,
   "id": "db9f6d8e-7b0d-42e2-9175-ce13e9cf07c0",
   "metadata": {},
   "outputs": [],
   "source": [
    "dh.train()\n",
    "generator.train()\n",
    "robust_dh_gan.activate_generation_training()\n",
    "robust_dh_gan.fit(100, callbacks=[PrintMetrics()])"
   ]
  },
  {
   "cell_type": "code",
   "execution_count": null,
   "id": "cd2afabe-3d39-4064-997e-08caba34f340",
   "metadata": {},
   "outputs": [],
   "source": [
    "dh.eval()\n",
    "r_res = np.sum(dh(inputs).detach().numpy() * inputs.numpy(), axis=(1, 2))\n",
    "term_a_v = np.sum(inputs.numpy(), axis=1)[:, 0] + 1.0"
   ]
  },
  {
   "cell_type": "code",
   "execution_count": null,
   "id": "8de31bf9-abf8-4257-8b70-90511a40cbd3",
   "metadata": {},
   "outputs": [],
   "source": [
    "plt.scatter(term_a_v, r_res, s=.1)\n",
    "plt.scatter(term_a_v, n_res, s=.1)\n",
    "plt.show()"
   ]
  },
  {
   "cell_type": "code",
   "execution_count": null,
   "id": "12a38f42-d7c1-4f9d-acac-0d47169432b9",
   "metadata": {},
   "outputs": [],
   "source": [
    "plt.scatter(term_a_v, r_res - n_res, s=.1)"
   ]
  }
 ],
 "metadata": {
  "kernelspec": {
   "display_name": "ARDH",
   "language": "python",
   "name": "ardh"
  },
  "language_info": {
   "codemirror_mode": {
    "name": "ipython",
    "version": 3
   },
   "file_extension": ".py",
   "mimetype": "text/x-python",
   "name": "python",
   "nbconvert_exporter": "python",
   "pygments_lexer": "ipython3",
   "version": "3.8.0"
  }
 },
 "nbformat": 4,
 "nbformat_minor": 5
}
